{
 "cells": [
  {
   "cell_type": "code",
   "execution_count": 3,
   "metadata": {},
   "outputs": [],
   "source": [
    "import os\n",
    "import requests"
   ]
  },
  {
   "cell_type": "code",
   "execution_count": 4,
   "metadata": {},
   "outputs": [],
   "source": [
    "base = \"https://raw.githubusercontent.com/JeffSackmann/tennis_wta/master/wta_matches_{}.csv\"\n",
    "save_dir = \"/Users/jiagu/Desktop/Data_Project/tennis-ml-project/data\""
   ]
  },
  {
   "cell_type": "code",
   "execution_count": 6,
   "metadata": {},
   "outputs": [
    {
     "name": "stdout",
     "output_type": "stream",
     "text": [
      "Downloaded: wta_matches_2000\n",
      "Downloaded: wta_matches_2001\n",
      "Downloaded: wta_matches_2002\n",
      "Downloaded: wta_matches_2003\n",
      "Downloaded: wta_matches_2004\n",
      "Downloaded: wta_matches_2005\n",
      "Downloaded: wta_matches_2006\n",
      "Downloaded: wta_matches_2007\n",
      "Downloaded: wta_matches_2008\n",
      "Downloaded: wta_matches_2009\n",
      "Downloaded: wta_matches_2010\n",
      "Downloaded: wta_matches_2011\n",
      "Downloaded: wta_matches_2012\n",
      "Downloaded: wta_matches_2013\n",
      "Downloaded: wta_matches_2014\n",
      "Downloaded: wta_matches_2015\n",
      "Downloaded: wta_matches_2016\n",
      "Downloaded: wta_matches_2017\n",
      "Downloaded: wta_matches_2018\n",
      "Downloaded: wta_matches_2019\n",
      "Downloaded: wta_matches_2020\n",
      "Downloaded: wta_matches_2021\n",
      "Downloaded: wta_matches_2022\n",
      "Downloaded: wta_matches_2023\n",
      "Downloaded: wta_matches_2024\n"
     ]
    }
   ],
   "source": [
    "years = range(2000, 2025)\n",
    "\n",
    "for year in years: \n",
    "    url = base.format(year)\n",
    "    file_path = os.path.join(save_dir, f\"wta_matches_{year}.csv\")\n",
    "    response = requests.get(url)\n",
    "    if response.status_code == 200: \n",
    "        with open(file_path, 'wb') as f: \n",
    "            f.write(response.content)\n",
    "        print(f\"Downloaded: wta_matches_{year}\")\n",
    "    else: \n",
    "        print(f\" Failed to download: wta_matches_{year}\")"
   ]
  },
  {
   "cell_type": "code",
   "execution_count": null,
   "metadata": {},
   "outputs": [],
   "source": []
  }
 ],
 "metadata": {
  "kernelspec": {
   "display_name": "Python 3 (ipykernel)",
   "language": "python",
   "name": "python3"
  },
  "language_info": {
   "codemirror_mode": {
    "name": "ipython",
    "version": 3
   },
   "file_extension": ".py",
   "mimetype": "text/x-python",
   "name": "python",
   "nbconvert_exporter": "python",
   "pygments_lexer": "ipython3",
   "version": "3.10.11"
  }
 },
 "nbformat": 4,
 "nbformat_minor": 4
}
